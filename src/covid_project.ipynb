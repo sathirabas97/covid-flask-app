{
 "cells": [
  {
   "cell_type": "code",
   "execution_count": 2,
   "id": "71912176",
   "metadata": {
    "pycharm": {
     "name": "#%%\n"
    }
   },
   "outputs": [],
   "source": [
    "import pandas as pd\n",
    "import numpy as np\n"
   ]
  },
  {
   "cell_type": "code",
   "execution_count": 3,
   "id": "417de39c",
   "metadata": {
    "pycharm": {
     "name": "#%%\n"
    }
   },
   "outputs": [],
   "source": [
    "import sklearn"
   ]
  },
  {
   "cell_type": "code",
   "execution_count": 6,
   "id": "c2b7da60",
   "metadata": {
    "pycharm": {
     "name": "#%%\n"
    }
   },
   "outputs": [
    {
     "name": "stdout",
     "output_type": "stream",
     "text": [
      "sa\n"
     ]
    }
   ],
   "source": [
    "# linear regression for multioutput regression\n",
    "from sklearn.datasets import make_regression\n",
    "from sklearn.linear_model import LinearRegression\n",
    "print(\"sa\")\n"
   ]
  },
  {
   "cell_type": "code",
   "execution_count": 7,
   "id": "770dd86d",
   "metadata": {
    "pycharm": {
     "name": "#%%\n"
    }
   },
   "outputs": [],
   "source": [
    "import pandas as pd  \n",
    "\n",
    "df = pd.read_excel('dataset.xlsx')\n"
   ]
  },
  {
   "cell_type": "code",
   "execution_count": 8,
   "id": "aaddcafa",
   "metadata": {
    "pycharm": {
     "name": "#%%\n"
    }
   },
   "outputs": [
    {
     "data": {
      "text/plain": "    Age  heart beat in bpm  Gender  Number of steps  Sleep\n0    20                 70       1             5100      7\n1    18                 75       1             6000      8\n2    16                 71       1             6100      8\n3    18                 60       1             2900      8\n4    28                 65       1             4100      7\n5    68                 77       1             3500      7\n6    78                 80       1             3050      7\n7    88                 71       1             3010      8\n8    38                 60       1             3700      6\n9    11                 66       1             6000      9\n10   58                 78       1             3300      7\n11   18                 69       1             3150      7\n12   45                 71       1             3600      8\n13   25                 75       1             3200      7\n14   98                 80       1             2100      9\n15   32                 83       1             3900      7\n16   38                 74       1             3650      8\n17   28                 77       1             4150      7\n18   18                 73       1             3300      8\n19   20                 70       0             4400      7\n20   18                 75       0             5300      8\n21   16                 71       0             5400      8\n22   18                 60       0             2200      8\n23   28                 65       0             3400      7\n24   68                 77       0             2800      7\n25   78                 80       0             2350      7\n26   88                 71       0             2310      8\n27   38                 60       0             3000      6\n28   11                 66       0             5300      9\n29   58                 78       0             2600      7\n30   18                 69       0             2450      7\n31   45                 71       0             2900      8\n32   25                 75       0             2500      7\n33   98                 80       0             1400      9\n34   32                 83       0             3200      7\n35   38                 74       0             2950      8\n36   28                 77       0             3450      7\n37   18                 73       0             2600      8",
      "text/html": "<div>\n<style scoped>\n    .dataframe tbody tr th:only-of-type {\n        vertical-align: middle;\n    }\n\n    .dataframe tbody tr th {\n        vertical-align: top;\n    }\n\n    .dataframe thead th {\n        text-align: right;\n    }\n</style>\n<table border=\"1\" class=\"dataframe\">\n  <thead>\n    <tr style=\"text-align: right;\">\n      <th></th>\n      <th>Age</th>\n      <th>heart beat in bpm</th>\n      <th>Gender</th>\n      <th>Number of steps</th>\n      <th>Sleep</th>\n    </tr>\n  </thead>\n  <tbody>\n    <tr>\n      <th>0</th>\n      <td>20</td>\n      <td>70</td>\n      <td>1</td>\n      <td>5100</td>\n      <td>7</td>\n    </tr>\n    <tr>\n      <th>1</th>\n      <td>18</td>\n      <td>75</td>\n      <td>1</td>\n      <td>6000</td>\n      <td>8</td>\n    </tr>\n    <tr>\n      <th>2</th>\n      <td>16</td>\n      <td>71</td>\n      <td>1</td>\n      <td>6100</td>\n      <td>8</td>\n    </tr>\n    <tr>\n      <th>3</th>\n      <td>18</td>\n      <td>60</td>\n      <td>1</td>\n      <td>2900</td>\n      <td>8</td>\n    </tr>\n    <tr>\n      <th>4</th>\n      <td>28</td>\n      <td>65</td>\n      <td>1</td>\n      <td>4100</td>\n      <td>7</td>\n    </tr>\n    <tr>\n      <th>5</th>\n      <td>68</td>\n      <td>77</td>\n      <td>1</td>\n      <td>3500</td>\n      <td>7</td>\n    </tr>\n    <tr>\n      <th>6</th>\n      <td>78</td>\n      <td>80</td>\n      <td>1</td>\n      <td>3050</td>\n      <td>7</td>\n    </tr>\n    <tr>\n      <th>7</th>\n      <td>88</td>\n      <td>71</td>\n      <td>1</td>\n      <td>3010</td>\n      <td>8</td>\n    </tr>\n    <tr>\n      <th>8</th>\n      <td>38</td>\n      <td>60</td>\n      <td>1</td>\n      <td>3700</td>\n      <td>6</td>\n    </tr>\n    <tr>\n      <th>9</th>\n      <td>11</td>\n      <td>66</td>\n      <td>1</td>\n      <td>6000</td>\n      <td>9</td>\n    </tr>\n    <tr>\n      <th>10</th>\n      <td>58</td>\n      <td>78</td>\n      <td>1</td>\n      <td>3300</td>\n      <td>7</td>\n    </tr>\n    <tr>\n      <th>11</th>\n      <td>18</td>\n      <td>69</td>\n      <td>1</td>\n      <td>3150</td>\n      <td>7</td>\n    </tr>\n    <tr>\n      <th>12</th>\n      <td>45</td>\n      <td>71</td>\n      <td>1</td>\n      <td>3600</td>\n      <td>8</td>\n    </tr>\n    <tr>\n      <th>13</th>\n      <td>25</td>\n      <td>75</td>\n      <td>1</td>\n      <td>3200</td>\n      <td>7</td>\n    </tr>\n    <tr>\n      <th>14</th>\n      <td>98</td>\n      <td>80</td>\n      <td>1</td>\n      <td>2100</td>\n      <td>9</td>\n    </tr>\n    <tr>\n      <th>15</th>\n      <td>32</td>\n      <td>83</td>\n      <td>1</td>\n      <td>3900</td>\n      <td>7</td>\n    </tr>\n    <tr>\n      <th>16</th>\n      <td>38</td>\n      <td>74</td>\n      <td>1</td>\n      <td>3650</td>\n      <td>8</td>\n    </tr>\n    <tr>\n      <th>17</th>\n      <td>28</td>\n      <td>77</td>\n      <td>1</td>\n      <td>4150</td>\n      <td>7</td>\n    </tr>\n    <tr>\n      <th>18</th>\n      <td>18</td>\n      <td>73</td>\n      <td>1</td>\n      <td>3300</td>\n      <td>8</td>\n    </tr>\n    <tr>\n      <th>19</th>\n      <td>20</td>\n      <td>70</td>\n      <td>0</td>\n      <td>4400</td>\n      <td>7</td>\n    </tr>\n    <tr>\n      <th>20</th>\n      <td>18</td>\n      <td>75</td>\n      <td>0</td>\n      <td>5300</td>\n      <td>8</td>\n    </tr>\n    <tr>\n      <th>21</th>\n      <td>16</td>\n      <td>71</td>\n      <td>0</td>\n      <td>5400</td>\n      <td>8</td>\n    </tr>\n    <tr>\n      <th>22</th>\n      <td>18</td>\n      <td>60</td>\n      <td>0</td>\n      <td>2200</td>\n      <td>8</td>\n    </tr>\n    <tr>\n      <th>23</th>\n      <td>28</td>\n      <td>65</td>\n      <td>0</td>\n      <td>3400</td>\n      <td>7</td>\n    </tr>\n    <tr>\n      <th>24</th>\n      <td>68</td>\n      <td>77</td>\n      <td>0</td>\n      <td>2800</td>\n      <td>7</td>\n    </tr>\n    <tr>\n      <th>25</th>\n      <td>78</td>\n      <td>80</td>\n      <td>0</td>\n      <td>2350</td>\n      <td>7</td>\n    </tr>\n    <tr>\n      <th>26</th>\n      <td>88</td>\n      <td>71</td>\n      <td>0</td>\n      <td>2310</td>\n      <td>8</td>\n    </tr>\n    <tr>\n      <th>27</th>\n      <td>38</td>\n      <td>60</td>\n      <td>0</td>\n      <td>3000</td>\n      <td>6</td>\n    </tr>\n    <tr>\n      <th>28</th>\n      <td>11</td>\n      <td>66</td>\n      <td>0</td>\n      <td>5300</td>\n      <td>9</td>\n    </tr>\n    <tr>\n      <th>29</th>\n      <td>58</td>\n      <td>78</td>\n      <td>0</td>\n      <td>2600</td>\n      <td>7</td>\n    </tr>\n    <tr>\n      <th>30</th>\n      <td>18</td>\n      <td>69</td>\n      <td>0</td>\n      <td>2450</td>\n      <td>7</td>\n    </tr>\n    <tr>\n      <th>31</th>\n      <td>45</td>\n      <td>71</td>\n      <td>0</td>\n      <td>2900</td>\n      <td>8</td>\n    </tr>\n    <tr>\n      <th>32</th>\n      <td>25</td>\n      <td>75</td>\n      <td>0</td>\n      <td>2500</td>\n      <td>7</td>\n    </tr>\n    <tr>\n      <th>33</th>\n      <td>98</td>\n      <td>80</td>\n      <td>0</td>\n      <td>1400</td>\n      <td>9</td>\n    </tr>\n    <tr>\n      <th>34</th>\n      <td>32</td>\n      <td>83</td>\n      <td>0</td>\n      <td>3200</td>\n      <td>7</td>\n    </tr>\n    <tr>\n      <th>35</th>\n      <td>38</td>\n      <td>74</td>\n      <td>0</td>\n      <td>2950</td>\n      <td>8</td>\n    </tr>\n    <tr>\n      <th>36</th>\n      <td>28</td>\n      <td>77</td>\n      <td>0</td>\n      <td>3450</td>\n      <td>7</td>\n    </tr>\n    <tr>\n      <th>37</th>\n      <td>18</td>\n      <td>73</td>\n      <td>0</td>\n      <td>2600</td>\n      <td>8</td>\n    </tr>\n  </tbody>\n</table>\n</div>"
     },
     "execution_count": 8,
     "metadata": {},
     "output_type": "execute_result"
    }
   ],
   "source": [
    "df"
   ]
  },
  {
   "cell_type": "code",
   "execution_count": 60,
   "id": "e159456f",
   "metadata": {
    "pycharm": {
     "name": "#%%\n"
    }
   },
   "outputs": [],
   "source": [
    "X = df[['Age','heart beat in bpm','Gender']]"
   ]
  },
  {
   "cell_type": "code",
   "execution_count": 61,
   "id": "fe46cd31",
   "metadata": {
    "pycharm": {
     "name": "#%%\n"
    }
   },
   "outputs": [],
   "source": [
    "y = df[['Number of steps','Sleep']]"
   ]
  },
  {
   "cell_type": "code",
   "execution_count": 62,
   "id": "0ab1b3ab",
   "metadata": {
    "pycharm": {
     "name": "#%%\n"
    }
   },
   "outputs": [
    {
     "data": {
      "text/plain": [
       "LinearRegression()"
      ]
     },
     "execution_count": 62,
     "metadata": {},
     "output_type": "execute_result"
    }
   ],
   "source": [
    "# define model\n",
    "model = LinearRegression()\n",
    "\n",
    "# fit model\n",
    "model.fit(X, y)"
   ]
  },
  {
   "cell_type": "code",
   "execution_count": 63,
   "id": "af09a580",
   "metadata": {
    "pycharm": {
     "name": "#%%\n"
    }
   },
   "outputs": [],
   "source": [
    "inputt = [50, 20,0]\n",
    "yhat = model.predict([inputt])"
   ]
  },
  {
   "cell_type": "code",
   "execution_count": 71,
   "id": "ac714320",
   "metadata": {
    "pycharm": {
     "name": "#%%\n"
    }
   },
   "outputs": [],
   "source": [
    "output = [el.round(1) for el in yhat]"
   ]
  },
  {
   "cell_type": "code",
   "execution_count": 72,
   "id": "54df693e",
   "metadata": {
    "pycharm": {
     "name": "#%%\n"
    }
   },
   "outputs": [
    {
     "data": {
      "text/plain": [
       "[array([1774.2,    7.5])]"
      ]
     },
     "execution_count": 72,
     "metadata": {},
     "output_type": "execute_result"
    }
   ],
   "source": [
    "output"
   ]
  },
  {
   "cell_type": "code",
   "execution_count": null,
   "id": "09716678",
   "metadata": {
    "pycharm": {
     "name": "#%%\n"
    }
   },
   "outputs": [],
   "source": []
  },
  {
   "cell_type": "code",
   "execution_count": null,
   "id": "33e38b79",
   "metadata": {
    "pycharm": {
     "name": "#%%\n"
    }
   },
   "outputs": [],
   "source": []
  },
  {
   "cell_type": "code",
   "execution_count": null,
   "id": "51fb6e95",
   "metadata": {
    "pycharm": {
     "name": "#%%\n"
    }
   },
   "outputs": [],
   "source": []
  }
 ],
 "metadata": {
  "kernelspec": {
   "display_name": "Python 3",
   "language": "python",
   "name": "python3"
  },
  "language_info": {
   "codemirror_mode": {
    "name": "ipython",
    "version": 3
   },
   "file_extension": ".py",
   "mimetype": "text/x-python",
   "name": "python",
   "nbconvert_exporter": "python",
   "pygments_lexer": "ipython3",
   "version": "3.8.8"
  }
 },
 "nbformat": 4,
 "nbformat_minor": 5
}